{
 "cells": [
  {
   "cell_type": "markdown",
   "metadata": {},
   "source": [
    "In this lab:\n",
    "1. Understand the dataset for Chicago Public School level performance \n",
    "1. Store the dataset in an Db2 database on IBM Cloud instance\n",
    "1. Retrieve metadata about tables and columns and query data from mixed case columns\n",
    "1. Solve example problems to practice your SQL skills including using built-in database functions"
   ]
  },
  {
   "cell_type": "markdown",
   "metadata": {},
   "source": [
    "#### Chicago Public Schools - Progress Report Cards (2011-2012) \n",
    "\n",
    "The city of Chicago released a dataset showing all school level performance data used to create School Report Cards for the 2011-2012 school year. The dataset is available from the Chicago Data Portal: https://data.cityofchicago.org/Education/Chicago-Public-Schools-Progress-Report-Cards-2011-/9xs2-f89t\n",
    "\n",
    "This dataset includes a large number of metrics. Start by familiarizing yourself with the types of metrics in the database: https://data.cityofchicago.org/api/assets/AAD41A13-BE8A-4E67-B1F5-86E711E09D5F?download=true\n",
    "\n",
    "__NOTE__: Do not download the dataset directly from City of Chicago portal. Instead download a more database friendly version from the link below.\n",
    "Now download a static copy of this database and review some of its contents:\n",
    "https://ibm.box.com/shared/static/f9gjvj1gjmxxzycdhplzt01qtz0s7ew7.csv\n"
   ]
  },
  {
   "cell_type": "markdown",
   "metadata": {},
   "source": [
    "#### Store the dataset in a Table\n",
    "In many cases the dataset to be analyzed is available as a .CSV (comma separated values) file, perhaps on the internet. To analyze the data using SQL, it first needs to be stored in the database.\n",
    "\n",
    "While it is easier to read the dataset into a Pandas dataframe and then PERSIST it into the database as we saw in the previous lab, it results in mapping to default datatypes which may not be optimal for SQL querying. For example a long textual field may map to a CLOB instead of a VARCHAR. \n",
    "\n",
    "Therefore, __it is highly recommended to manually load the table using the database console LOAD tool, as indicated in Week 2 Lab 1 Part II__. The only difference with that lab is that in Step 5 of the instructions you will need to click on create \"(+) New Table\" and specify the name of the table you want to create and then click \"Next\". \n",
    "\n",
    "##### Now open the Db2 console, open the LOAD tool, Select / Drag the .CSV file for the CHICAGO PUBLIC SCHOOLS dataset and load the dataset into a new table called __SCHOOLS__.\n",
    "\n",
    "<a href=\"https://cognitiveclass.ai\"><img src = \"https://ibm.box.com/shared/static/uc4xjh1uxcc78ks1i18v668simioz4es.jpg\"></a>"
   ]
  },
  {
   "cell_type": "markdown",
   "metadata": {},
   "source": [
    "#### Connect to the database\n",
    "Let load the ipython-sql  extension and establish a connection with the database"
   ]
  },
  {
   "cell_type": "code",
   "execution_count": 24,
   "metadata": {},
   "outputs": [
    {
     "name": "stdout",
     "output_type": "stream",
     "text": [
      "The sql extension is already loaded. To reload it, use:\n",
      "  %reload_ext sql\n"
     ]
    }
   ],
   "source": [
    "%load_ext sql"
   ]
  },
  {
   "cell_type": "code",
   "execution_count": 37,
   "metadata": {},
   "outputs": [],
   "source": [
    "import pandas as pd"
   ]
  },
  {
   "cell_type": "code",
   "execution_count": 149,
   "metadata": {},
   "outputs": [],
   "source": [
    "import seaborn as sns"
   ]
  },
  {
   "cell_type": "code",
   "execution_count": 23,
   "metadata": {},
   "outputs": [
    {
     "data": {
      "text/plain": [
       "'Connected: zcl11296@BLUDB'"
      ]
     },
     "execution_count": 23,
     "metadata": {},
     "output_type": "execute_result"
    }
   ],
   "source": [
    "%sql ibm_db_sa://zcl11296:8qml-p1w2w8js19m@dashdb-txn-sbox-yp-dal09-04.services.dal.bluemix.net:50000/BLUDB"
   ]
  },
  {
   "cell_type": "markdown",
   "metadata": {},
   "source": [
    "#### Query the database system catalog to retrieve table metadata\n",
    "You can verify that the table creation was successful by retrieving the list of all tables in your schema and checking whether the SCHOOLS table was created"
   ]
  },
  {
   "cell_type": "code",
   "execution_count": 170,
   "metadata": {},
   "outputs": [
    {
     "name": "stdout",
     "output_type": "stream",
     "text": [
      " * ibm_db_sa://zcl11296:***@dashdb-txn-sbox-yp-dal09-04.services.dal.bluemix.net:50000/BLUDB\n",
      "Done.\n"
     ]
    },
    {
     "data": {
      "text/html": [
       "<table>\n",
       "    <tr>\n",
       "        <th>tabschema</th>\n",
       "        <th>tabname</th>\n",
       "        <th>create_time</th>\n",
       "    </tr>\n",
       "</table>"
      ],
      "text/plain": [
       "[]"
      ]
     },
     "execution_count": 170,
     "metadata": {},
     "output_type": "execute_result"
    }
   ],
   "source": [
    "# why there is no table name with this? \n",
    "%sql select TABSCHEMA, TABNAME, CREATE_TIME \\\n",
    "from SYSCAT.TABLES \\\n",
    "where tabschema = 'zcl11296'"
   ]
  },
  {
   "cell_type": "code",
   "execution_count": 171,
   "metadata": {},
   "outputs": [
    {
     "name": "stdout",
     "output_type": "stream",
     "text": [
      " * ibm_db_sa://zcl11296:***@dashdb-txn-sbox-yp-dal09-04.services.dal.bluemix.net:50000/BLUDB\n",
      "Done.\n"
     ]
    },
    {
     "data": {
      "text/html": [
       "<table>\n",
       "    <tr>\n",
       "        <th>tabschema</th>\n",
       "        <th>tabname</th>\n",
       "        <th>owner</th>\n",
       "        <th>ownertype</th>\n",
       "        <th>TYPE</th>\n",
       "        <th>status</th>\n",
       "        <th>base_tabschema</th>\n",
       "        <th>base_tabname</th>\n",
       "        <th>rowtypeschema</th>\n",
       "        <th>rowtypename</th>\n",
       "        <th>create_time</th>\n",
       "        <th>alter_time</th>\n",
       "        <th>invalidate_time</th>\n",
       "        <th>stats_time</th>\n",
       "        <th>colcount</th>\n",
       "        <th>tableid</th>\n",
       "        <th>tbspaceid</th>\n",
       "        <th>card</th>\n",
       "        <th>npages</th>\n",
       "        <th>mpages</th>\n",
       "        <th>fpages</th>\n",
       "        <th>npartitions</th>\n",
       "        <th>nfiles</th>\n",
       "        <th>tablesize</th>\n",
       "        <th>overflow</th>\n",
       "        <th>tbspace</th>\n",
       "        <th>index_tbspace</th>\n",
       "        <th>long_tbspace</th>\n",
       "        <th>parents</th>\n",
       "        <th>children</th>\n",
       "        <th>selfrefs</th>\n",
       "        <th>keycolumns</th>\n",
       "        <th>keyindexid</th>\n",
       "        <th>keyunique</th>\n",
       "        <th>checkcount</th>\n",
       "        <th>datacapture</th>\n",
       "        <th>const_checked</th>\n",
       "        <th>pmap_id</th>\n",
       "        <th>partition_mode</th>\n",
       "        <th>log_attribute</th>\n",
       "        <th>pctfree</th>\n",
       "        <th>append_mode</th>\n",
       "        <th>REFRESH</th>\n",
       "        <th>refresh_time</th>\n",
       "        <th>LOCKSIZE</th>\n",
       "        <th>VOLATILE</th>\n",
       "        <th>row_format</th>\n",
       "        <th>property</th>\n",
       "        <th>statistics_profile</th>\n",
       "        <th>compression</th>\n",
       "        <th>rowcompmode</th>\n",
       "        <th>access_mode</th>\n",
       "        <th>clustered</th>\n",
       "        <th>active_blocks</th>\n",
       "        <th>droprule</th>\n",
       "        <th>maxfreespacesearch</th>\n",
       "        <th>avgcompressedrowsize</th>\n",
       "        <th>avgrowcompressionratio</th>\n",
       "        <th>avgrowsize</th>\n",
       "        <th>pctrowscompressed</th>\n",
       "        <th>logindexbuild</th>\n",
       "        <th>codepage</th>\n",
       "        <th>collationschema</th>\n",
       "        <th>collationname</th>\n",
       "        <th>collationschema_orderby</th>\n",
       "        <th>collationname_orderby</th>\n",
       "        <th>encoding_scheme</th>\n",
       "        <th>pctpagessaved</th>\n",
       "        <th>last_regen_time</th>\n",
       "        <th>secpolicyid</th>\n",
       "        <th>protectiongranularity</th>\n",
       "        <th>auditpolicyid</th>\n",
       "        <th>auditpolicyname</th>\n",
       "        <th>auditexceptionenabled</th>\n",
       "        <th>definer</th>\n",
       "        <th>oncommit</th>\n",
       "        <th>logged</th>\n",
       "        <th>onrollback</th>\n",
       "        <th>lastused</th>\n",
       "        <th>control</th>\n",
       "        <th>temporaltype</th>\n",
       "        <th>tableorg</th>\n",
       "        <th>extended_row_size</th>\n",
       "        <th>pctextendedrows</th>\n",
       "        <th>remarks</th>\n",
       "    </tr>\n",
       "    <tr>\n",
       "        <td>ZCL11296</td>\n",
       "        <td>SCHOOLS</td>\n",
       "        <td>ZCL11296</td>\n",
       "        <td>U</td>\n",
       "        <td>T</td>\n",
       "        <td>N</td>\n",
       "        <td>None</td>\n",
       "        <td>None</td>\n",
       "        <td>None</td>\n",
       "        <td>None</td>\n",
       "        <td>2020-03-22 18:30:17.344968</td>\n",
       "        <td>2020-03-22 18:30:17.344968</td>\n",
       "        <td>2020-03-22 18:30:17.344968</td>\n",
       "        <td>2020-03-22 18:34:31.996112</td>\n",
       "        <td>78</td>\n",
       "        <td>13</td>\n",
       "        <td>4144</td>\n",
       "        <td>566</td>\n",
       "        <td>15</td>\n",
       "        <td>0</td>\n",
       "        <td>16</td>\n",
       "        <td>-1</td>\n",
       "        <td>-1</td>\n",
       "        <td>-1</td>\n",
       "        <td>0</td>\n",
       "        <td>zcl11296space1</td>\n",
       "        <td>None</td>\n",
       "        <td>None</td>\n",
       "        <td>0</td>\n",
       "        <td>0</td>\n",
       "        <td>0</td>\n",
       "        <td>0</td>\n",
       "        <td>0</td>\n",
       "        <td>0</td>\n",
       "        <td>0</td>\n",
       "        <td>N</td>\n",
       "        <td>YYYYYYYYYYYYYYYYYYYYYYYYYYYYYYYY</td>\n",
       "        <td>1</td>\n",
       "        <td> </td>\n",
       "        <td>0</td>\n",
       "        <td>-1</td>\n",
       "        <td>N</td>\n",
       "        <td> </td>\n",
       "        <td>None</td>\n",
       "        <td>R</td>\n",
       "        <td> </td>\n",
       "        <td>N</td>\n",
       "        <td>&nbsp;&nbsp;&nbsp;&nbsp;&nbsp;&nbsp;&nbsp;&nbsp;&nbsp;&nbsp;&nbsp;&nbsp;&nbsp;&nbsp;&nbsp;&nbsp;&nbsp;&nbsp;&nbsp;&nbsp;&nbsp;&nbsp;&nbsp;&nbsp;&nbsp;&nbsp;&nbsp;&nbsp;&nbsp;&nbsp;&nbsp;&nbsp;</td>\n",
       "        <td>None</td>\n",
       "        <td>N</td>\n",
       "        <td> </td>\n",
       "        <td>F</td>\n",
       "        <td>None</td>\n",
       "        <td>0</td>\n",
       "        <td>N</td>\n",
       "        <td>999</td>\n",
       "        <td>0</td>\n",
       "        <td>0.0</td>\n",
       "        <td>844</td>\n",
       "        <td>0.0</td>\n",
       "        <td>None</td>\n",
       "        <td>1208</td>\n",
       "        <td>SYSIBM</td>\n",
       "        <td>IDENTITY</td>\n",
       "        <td>SYSIBM</td>\n",
       "        <td>IDENTITY</td>\n",
       "        <td> </td>\n",
       "        <td>0</td>\n",
       "        <td>2020-03-22 18:30:17.344968</td>\n",
       "        <td>0</td>\n",
       "        <td> </td>\n",
       "        <td>None</td>\n",
       "        <td>None</td>\n",
       "        <td>N</td>\n",
       "        <td>ZCL11296</td>\n",
       "        <td> </td>\n",
       "        <td> </td>\n",
       "        <td> </td>\n",
       "        <td>2020-03-22</td>\n",
       "        <td> </td>\n",
       "        <td>N</td>\n",
       "        <td>R</td>\n",
       "        <td>N</td>\n",
       "        <td>-1.0</td>\n",
       "        <td>None</td>\n",
       "    </tr>\n",
       "</table>"
      ],
      "text/plain": [
       "[('ZCL11296', 'SCHOOLS', 'ZCL11296', 'U', 'T', 'N', None, None, None, None, datetime.datetime(2020, 3, 22, 18, 30, 17, 344968), datetime.datetime(2020, 3, 22, 18, 30, 17, 344968), datetime.datetime(2020, 3, 22, 18, 30, 17, 344968), datetime.datetime(2020, 3, 22, 18, 34, 31, 996112), 78, 13, 4144, 566, 15, 0, 16, -1, -1, -1, 0, 'zcl11296space1', None, None, 0, 0, 0, 0, 0, 0, 0, 'N', 'YYYYYYYYYYYYYYYYYYYYYYYYYYYYYYYY', 1, ' ', '0', -1, 'N', ' ', None, 'R', ' ', 'N', '                                ', None, 'N', ' ', 'F', None, 0, 'N', 999, 0, 0.0, 844, 0.0, None, 1208, 'SYSIBM', 'IDENTITY', 'SYSIBM', 'IDENTITY', ' ', 0, datetime.datetime(2020, 3, 22, 18, 30, 17, 344968), 0, ' ', None, None, 'N', 'ZCL11296', ' ', ' ', ' ', datetime.date(2020, 3, 22), ' ', 'N', 'R', 'N', -1.0, None)]"
      ]
     },
     "execution_count": 171,
     "metadata": {},
     "output_type": "execute_result"
    }
   ],
   "source": [
    "%sql select * \\\n",
    "from SYSCAT.TABLES \\\n",
    "where TABNAME = 'SCHOOLS'"
   ]
  },
  {
   "cell_type": "markdown",
   "metadata": {},
   "source": [
    "#### Query the database system catalog to retrieve column metadata\n",
    "The SCHOOLS table contains a large number of columns. How many columns does this table have?"
   ]
  },
  {
   "cell_type": "code",
   "execution_count": 27,
   "metadata": {},
   "outputs": [
    {
     "name": "stdout",
     "output_type": "stream",
     "text": [
      " * ibm_db_sa://zcl11296:***@dashdb-txn-sbox-yp-dal09-04.services.dal.bluemix.net:50000/BLUDB\n",
      "Done.\n"
     ]
    },
    {
     "data": {
      "text/html": [
       "<table>\n",
       "    <tr>\n",
       "        <th>colcount</th>\n",
       "    </tr>\n",
       "    <tr>\n",
       "        <td>78</td>\n",
       "    </tr>\n",
       "</table>"
      ],
      "text/plain": [
       "[(78,)]"
      ]
     },
     "execution_count": 27,
     "metadata": {},
     "output_type": "execute_result"
    }
   ],
   "source": [
    "#! colcount is the columns number. \n",
    "%sql select colcount \\\n",
    "from SYSCAT.TABLES \\\n",
    "where TABNAME = 'SCHOOLS'"
   ]
  },
  {
   "cell_type": "code",
   "execution_count": 28,
   "metadata": {},
   "outputs": [
    {
     "name": "stdout",
     "output_type": "stream",
     "text": [
      " * ibm_db_sa://zcl11296:***@dashdb-txn-sbox-yp-dal09-04.services.dal.bluemix.net:50000/BLUDB\n",
      "Done.\n"
     ]
    },
    {
     "data": {
      "text/html": [
       "<table>\n",
       "    <tr>\n",
       "        <th>1</th>\n",
       "    </tr>\n",
       "    <tr>\n",
       "        <td>78</td>\n",
       "    </tr>\n",
       "</table>"
      ],
      "text/plain": [
       "[(Decimal('78'),)]"
      ]
     },
     "execution_count": 28,
     "metadata": {},
     "output_type": "execute_result"
    }
   ],
   "source": [
    "#! SYSCAT.COLUMNS \n",
    "%sql select count(*) \\\n",
    "from SYSCAT.COLUMNS \\\n",
    "where TABNAME = 'SCHOOLS'"
   ]
  },
  {
   "cell_type": "markdown",
   "metadata": {},
   "source": [
    " Columns in SCHOOLS table and their column type (datatype) and length:"
   ]
  },
  {
   "cell_type": "code",
   "execution_count": 29,
   "metadata": {},
   "outputs": [
    {
     "name": "stdout",
     "output_type": "stream",
     "text": [
      " * ibm_db_sa://zcl11296:***@dashdb-txn-sbox-yp-dal09-04.services.dal.bluemix.net:50000/BLUDB\n",
      "Done.\n"
     ]
    },
    {
     "data": {
      "text/html": [
       "<table>\n",
       "    <tr>\n",
       "        <th>Column name</th>\n",
       "        <th>Type</th>\n",
       "        <th>Lenght</th>\n",
       "    </tr>\n",
       "    <tr>\n",
       "        <td>School_ID</td>\n",
       "        <td>INTEGER</td>\n",
       "        <td>4</td>\n",
       "    </tr>\n",
       "    <tr>\n",
       "        <td>NAME_OF_SCHOOL</td>\n",
       "        <td>VARCHAR</td>\n",
       "        <td>65</td>\n",
       "    </tr>\n",
       "    <tr>\n",
       "        <td>Elementary, Middle, or High School</td>\n",
       "        <td>VARCHAR</td>\n",
       "        <td>2</td>\n",
       "    </tr>\n",
       "    <tr>\n",
       "        <td>Street_Address</td>\n",
       "        <td>VARCHAR</td>\n",
       "        <td>30</td>\n",
       "    </tr>\n",
       "    <tr>\n",
       "        <td>City</td>\n",
       "        <td>VARCHAR</td>\n",
       "        <td>7</td>\n",
       "    </tr>\n",
       "    <tr>\n",
       "        <td>State</td>\n",
       "        <td>VARCHAR</td>\n",
       "        <td>2</td>\n",
       "    </tr>\n",
       "    <tr>\n",
       "        <td>ZIP_Code</td>\n",
       "        <td>INTEGER</td>\n",
       "        <td>4</td>\n",
       "    </tr>\n",
       "    <tr>\n",
       "        <td>Phone_Number</td>\n",
       "        <td>VARCHAR</td>\n",
       "        <td>14</td>\n",
       "    </tr>\n",
       "    <tr>\n",
       "        <td>Link</td>\n",
       "        <td>VARCHAR</td>\n",
       "        <td>78</td>\n",
       "    </tr>\n",
       "    <tr>\n",
       "        <td>Network_Manager</td>\n",
       "        <td>VARCHAR</td>\n",
       "        <td>40</td>\n",
       "    </tr>\n",
       "    <tr>\n",
       "        <td>Collaborative_Name</td>\n",
       "        <td>VARCHAR</td>\n",
       "        <td>34</td>\n",
       "    </tr>\n",
       "    <tr>\n",
       "        <td>Adequate_Yearly_Progress_Made_</td>\n",
       "        <td>VARCHAR</td>\n",
       "        <td>3</td>\n",
       "    </tr>\n",
       "    <tr>\n",
       "        <td>Track_Schedule</td>\n",
       "        <td>VARCHAR</td>\n",
       "        <td>12</td>\n",
       "    </tr>\n",
       "    <tr>\n",
       "        <td>CPS_Performance_Policy_Status</td>\n",
       "        <td>VARCHAR</td>\n",
       "        <td>16</td>\n",
       "    </tr>\n",
       "    <tr>\n",
       "        <td>CPS_Performance_Policy_Level</td>\n",
       "        <td>VARCHAR</td>\n",
       "        <td>15</td>\n",
       "    </tr>\n",
       "    <tr>\n",
       "        <td>HEALTHY_SCHOOL_CERTIFIED</td>\n",
       "        <td>VARCHAR</td>\n",
       "        <td>3</td>\n",
       "    </tr>\n",
       "    <tr>\n",
       "        <td>Safety_Icon</td>\n",
       "        <td>VARCHAR</td>\n",
       "        <td>11</td>\n",
       "    </tr>\n",
       "    <tr>\n",
       "        <td>SAFETY_SCORE</td>\n",
       "        <td>SMALLINT</td>\n",
       "        <td>2</td>\n",
       "    </tr>\n",
       "    <tr>\n",
       "        <td>Family_Involvement_Icon</td>\n",
       "        <td>VARCHAR</td>\n",
       "        <td>11</td>\n",
       "    </tr>\n",
       "    <tr>\n",
       "        <td>Family_Involvement_Score</td>\n",
       "        <td>VARCHAR</td>\n",
       "        <td>3</td>\n",
       "    </tr>\n",
       "    <tr>\n",
       "        <td>Environment_Icon</td>\n",
       "        <td>VARCHAR</td>\n",
       "        <td>11</td>\n",
       "    </tr>\n",
       "    <tr>\n",
       "        <td>Environment_Score</td>\n",
       "        <td>SMALLINT</td>\n",
       "        <td>2</td>\n",
       "    </tr>\n",
       "    <tr>\n",
       "        <td>Instruction_Icon</td>\n",
       "        <td>VARCHAR</td>\n",
       "        <td>11</td>\n",
       "    </tr>\n",
       "    <tr>\n",
       "        <td>Instruction_Score</td>\n",
       "        <td>SMALLINT</td>\n",
       "        <td>2</td>\n",
       "    </tr>\n",
       "    <tr>\n",
       "        <td>Leaders_Icon</td>\n",
       "        <td>VARCHAR</td>\n",
       "        <td>11</td>\n",
       "    </tr>\n",
       "    <tr>\n",
       "        <td>Leaders_Score</td>\n",
       "        <td>VARCHAR</td>\n",
       "        <td>3</td>\n",
       "    </tr>\n",
       "    <tr>\n",
       "        <td>Teachers_Icon</td>\n",
       "        <td>VARCHAR</td>\n",
       "        <td>11</td>\n",
       "    </tr>\n",
       "    <tr>\n",
       "        <td>Teachers_Score</td>\n",
       "        <td>VARCHAR</td>\n",
       "        <td>3</td>\n",
       "    </tr>\n",
       "    <tr>\n",
       "        <td>Parent_Engagement_Icon</td>\n",
       "        <td>VARCHAR</td>\n",
       "        <td>7</td>\n",
       "    </tr>\n",
       "    <tr>\n",
       "        <td>Parent_Engagement_Score</td>\n",
       "        <td>VARCHAR</td>\n",
       "        <td>3</td>\n",
       "    </tr>\n",
       "    <tr>\n",
       "        <td>Parent_Environment_Icon</td>\n",
       "        <td>VARCHAR</td>\n",
       "        <td>7</td>\n",
       "    </tr>\n",
       "    <tr>\n",
       "        <td>Parent_Environment_Score</td>\n",
       "        <td>VARCHAR</td>\n",
       "        <td>3</td>\n",
       "    </tr>\n",
       "    <tr>\n",
       "        <td>AVERAGE_STUDENT_ATTENDANCE</td>\n",
       "        <td>VARCHAR</td>\n",
       "        <td>6</td>\n",
       "    </tr>\n",
       "    <tr>\n",
       "        <td>Rate_of_Misconducts__per_100_students_</td>\n",
       "        <td>DECIMAL</td>\n",
       "        <td>5</td>\n",
       "    </tr>\n",
       "    <tr>\n",
       "        <td>Average_Teacher_Attendance</td>\n",
       "        <td>VARCHAR</td>\n",
       "        <td>6</td>\n",
       "    </tr>\n",
       "    <tr>\n",
       "        <td>Individualized_Education_Program_Compliance_Rate</td>\n",
       "        <td>VARCHAR</td>\n",
       "        <td>7</td>\n",
       "    </tr>\n",
       "    <tr>\n",
       "        <td>Pk_2_Literacy__</td>\n",
       "        <td>VARCHAR</td>\n",
       "        <td>4</td>\n",
       "    </tr>\n",
       "    <tr>\n",
       "        <td>Pk_2_Math__</td>\n",
       "        <td>VARCHAR</td>\n",
       "        <td>4</td>\n",
       "    </tr>\n",
       "    <tr>\n",
       "        <td>Gr3_5_Grade_Level_Math__</td>\n",
       "        <td>VARCHAR</td>\n",
       "        <td>4</td>\n",
       "    </tr>\n",
       "    <tr>\n",
       "        <td>Gr3_5_Grade_Level_Read__</td>\n",
       "        <td>VARCHAR</td>\n",
       "        <td>4</td>\n",
       "    </tr>\n",
       "    <tr>\n",
       "        <td>Gr3_5_Keep_Pace_Read__</td>\n",
       "        <td>VARCHAR</td>\n",
       "        <td>4</td>\n",
       "    </tr>\n",
       "    <tr>\n",
       "        <td>Gr3_5_Keep_Pace_Math__</td>\n",
       "        <td>VARCHAR</td>\n",
       "        <td>4</td>\n",
       "    </tr>\n",
       "    <tr>\n",
       "        <td>Gr6_8_Grade_Level_Math__</td>\n",
       "        <td>VARCHAR</td>\n",
       "        <td>4</td>\n",
       "    </tr>\n",
       "    <tr>\n",
       "        <td>Gr6_8_Grade_Level_Read__</td>\n",
       "        <td>VARCHAR</td>\n",
       "        <td>4</td>\n",
       "    </tr>\n",
       "    <tr>\n",
       "        <td>Gr6_8_Keep_Pace_Math_</td>\n",
       "        <td>VARCHAR</td>\n",
       "        <td>4</td>\n",
       "    </tr>\n",
       "    <tr>\n",
       "        <td>Gr6_8_Keep_Pace_Read__</td>\n",
       "        <td>VARCHAR</td>\n",
       "        <td>4</td>\n",
       "    </tr>\n",
       "    <tr>\n",
       "        <td>Gr_8_Explore_Math__</td>\n",
       "        <td>VARCHAR</td>\n",
       "        <td>4</td>\n",
       "    </tr>\n",
       "    <tr>\n",
       "        <td>Gr_8_Explore_Read__</td>\n",
       "        <td>VARCHAR</td>\n",
       "        <td>4</td>\n",
       "    </tr>\n",
       "    <tr>\n",
       "        <td>ISAT_Exceeding_Math__</td>\n",
       "        <td>DECIMAL</td>\n",
       "        <td>4</td>\n",
       "    </tr>\n",
       "    <tr>\n",
       "        <td>ISAT_Exceeding_Reading__</td>\n",
       "        <td>DECIMAL</td>\n",
       "        <td>4</td>\n",
       "    </tr>\n",
       "    <tr>\n",
       "        <td>ISAT_Value_Add_Math</td>\n",
       "        <td>DECIMAL</td>\n",
       "        <td>3</td>\n",
       "    </tr>\n",
       "    <tr>\n",
       "        <td>ISAT_Value_Add_Read</td>\n",
       "        <td>DECIMAL</td>\n",
       "        <td>3</td>\n",
       "    </tr>\n",
       "    <tr>\n",
       "        <td>ISAT_Value_Add_Color_Math</td>\n",
       "        <td>VARCHAR</td>\n",
       "        <td>6</td>\n",
       "    </tr>\n",
       "    <tr>\n",
       "        <td>ISAT_Value_Add_Color_Read</td>\n",
       "        <td>VARCHAR</td>\n",
       "        <td>6</td>\n",
       "    </tr>\n",
       "    <tr>\n",
       "        <td>Students_Taking__Algebra__</td>\n",
       "        <td>VARCHAR</td>\n",
       "        <td>4</td>\n",
       "    </tr>\n",
       "    <tr>\n",
       "        <td>Students_Passing__Algebra__</td>\n",
       "        <td>VARCHAR</td>\n",
       "        <td>4</td>\n",
       "    </tr>\n",
       "    <tr>\n",
       "        <td>9th Grade EXPLORE (2009)</td>\n",
       "        <td>VARCHAR</td>\n",
       "        <td>4</td>\n",
       "    </tr>\n",
       "    <tr>\n",
       "        <td>9th Grade EXPLORE (2010)</td>\n",
       "        <td>VARCHAR</td>\n",
       "        <td>4</td>\n",
       "    </tr>\n",
       "    <tr>\n",
       "        <td>10th Grade PLAN (2009)</td>\n",
       "        <td>VARCHAR</td>\n",
       "        <td>4</td>\n",
       "    </tr>\n",
       "    <tr>\n",
       "        <td>10th Grade PLAN (2010)</td>\n",
       "        <td>VARCHAR</td>\n",
       "        <td>4</td>\n",
       "    </tr>\n",
       "    <tr>\n",
       "        <td>Net_Change_EXPLORE_and_PLAN</td>\n",
       "        <td>VARCHAR</td>\n",
       "        <td>3</td>\n",
       "    </tr>\n",
       "    <tr>\n",
       "        <td>11th Grade Average ACT (2011)</td>\n",
       "        <td>VARCHAR</td>\n",
       "        <td>4</td>\n",
       "    </tr>\n",
       "    <tr>\n",
       "        <td>Net_Change_PLAN_and_ACT</td>\n",
       "        <td>VARCHAR</td>\n",
       "        <td>3</td>\n",
       "    </tr>\n",
       "    <tr>\n",
       "        <td>College_Eligibility__</td>\n",
       "        <td>VARCHAR</td>\n",
       "        <td>4</td>\n",
       "    </tr>\n",
       "    <tr>\n",
       "        <td>Graduation_Rate__</td>\n",
       "        <td>VARCHAR</td>\n",
       "        <td>4</td>\n",
       "    </tr>\n",
       "    <tr>\n",
       "        <td>College_Enrollment_Rate__</td>\n",
       "        <td>VARCHAR</td>\n",
       "        <td>4</td>\n",
       "    </tr>\n",
       "    <tr>\n",
       "        <td>COLLEGE_ENROLLMENT</td>\n",
       "        <td>SMALLINT</td>\n",
       "        <td>2</td>\n",
       "    </tr>\n",
       "    <tr>\n",
       "        <td>General_Services_Route</td>\n",
       "        <td>SMALLINT</td>\n",
       "        <td>2</td>\n",
       "    </tr>\n",
       "    <tr>\n",
       "        <td>Freshman_on_Track_Rate__</td>\n",
       "        <td>VARCHAR</td>\n",
       "        <td>4</td>\n",
       "    </tr>\n",
       "    <tr>\n",
       "        <td>X_COORDINATE</td>\n",
       "        <td>DECIMAL</td>\n",
       "        <td>13</td>\n",
       "    </tr>\n",
       "    <tr>\n",
       "        <td>Y_COORDINATE</td>\n",
       "        <td>DECIMAL</td>\n",
       "        <td>13</td>\n",
       "    </tr>\n",
       "    <tr>\n",
       "        <td>Latitude</td>\n",
       "        <td>DECIMAL</td>\n",
       "        <td>18</td>\n",
       "    </tr>\n",
       "    <tr>\n",
       "        <td>Longitude</td>\n",
       "        <td>DECIMAL</td>\n",
       "        <td>18</td>\n",
       "    </tr>\n",
       "    <tr>\n",
       "        <td>COMMUNITY_AREA_NUMBER</td>\n",
       "        <td>SMALLINT</td>\n",
       "        <td>2</td>\n",
       "    </tr>\n",
       "    <tr>\n",
       "        <td>COMMUNITY_AREA_NAME</td>\n",
       "        <td>VARCHAR</td>\n",
       "        <td>22</td>\n",
       "    </tr>\n",
       "    <tr>\n",
       "        <td>Ward</td>\n",
       "        <td>SMALLINT</td>\n",
       "        <td>2</td>\n",
       "    </tr>\n",
       "    <tr>\n",
       "        <td>Police_District</td>\n",
       "        <td>SMALLINT</td>\n",
       "        <td>2</td>\n",
       "    </tr>\n",
       "    <tr>\n",
       "        <td>Location</td>\n",
       "        <td>VARCHAR</td>\n",
       "        <td>27</td>\n",
       "    </tr>\n",
       "</table>"
      ],
      "text/plain": [
       "[('School_ID', 'INTEGER', 4),\n",
       " ('NAME_OF_SCHOOL', 'VARCHAR', 65),\n",
       " ('Elementary, Middle, or High School', 'VARCHAR', 2),\n",
       " ('Street_Address', 'VARCHAR', 30),\n",
       " ('City', 'VARCHAR', 7),\n",
       " ('State', 'VARCHAR', 2),\n",
       " ('ZIP_Code', 'INTEGER', 4),\n",
       " ('Phone_Number', 'VARCHAR', 14),\n",
       " ('Link', 'VARCHAR', 78),\n",
       " ('Network_Manager', 'VARCHAR', 40),\n",
       " ('Collaborative_Name', 'VARCHAR', 34),\n",
       " ('Adequate_Yearly_Progress_Made_', 'VARCHAR', 3),\n",
       " ('Track_Schedule', 'VARCHAR', 12),\n",
       " ('CPS_Performance_Policy_Status', 'VARCHAR', 16),\n",
       " ('CPS_Performance_Policy_Level', 'VARCHAR', 15),\n",
       " ('HEALTHY_SCHOOL_CERTIFIED', 'VARCHAR', 3),\n",
       " ('Safety_Icon', 'VARCHAR', 11),\n",
       " ('SAFETY_SCORE', 'SMALLINT', 2),\n",
       " ('Family_Involvement_Icon', 'VARCHAR', 11),\n",
       " ('Family_Involvement_Score', 'VARCHAR', 3),\n",
       " ('Environment_Icon', 'VARCHAR', 11),\n",
       " ('Environment_Score', 'SMALLINT', 2),\n",
       " ('Instruction_Icon', 'VARCHAR', 11),\n",
       " ('Instruction_Score', 'SMALLINT', 2),\n",
       " ('Leaders_Icon', 'VARCHAR', 11),\n",
       " ('Leaders_Score', 'VARCHAR', 3),\n",
       " ('Teachers_Icon', 'VARCHAR', 11),\n",
       " ('Teachers_Score', 'VARCHAR', 3),\n",
       " ('Parent_Engagement_Icon', 'VARCHAR', 7),\n",
       " ('Parent_Engagement_Score', 'VARCHAR', 3),\n",
       " ('Parent_Environment_Icon', 'VARCHAR', 7),\n",
       " ('Parent_Environment_Score', 'VARCHAR', 3),\n",
       " ('AVERAGE_STUDENT_ATTENDANCE', 'VARCHAR', 6),\n",
       " ('Rate_of_Misconducts__per_100_students_', 'DECIMAL', 5),\n",
       " ('Average_Teacher_Attendance', 'VARCHAR', 6),\n",
       " ('Individualized_Education_Program_Compliance_Rate', 'VARCHAR', 7),\n",
       " ('Pk_2_Literacy__', 'VARCHAR', 4),\n",
       " ('Pk_2_Math__', 'VARCHAR', 4),\n",
       " ('Gr3_5_Grade_Level_Math__', 'VARCHAR', 4),\n",
       " ('Gr3_5_Grade_Level_Read__', 'VARCHAR', 4),\n",
       " ('Gr3_5_Keep_Pace_Read__', 'VARCHAR', 4),\n",
       " ('Gr3_5_Keep_Pace_Math__', 'VARCHAR', 4),\n",
       " ('Gr6_8_Grade_Level_Math__', 'VARCHAR', 4),\n",
       " ('Gr6_8_Grade_Level_Read__', 'VARCHAR', 4),\n",
       " ('Gr6_8_Keep_Pace_Math_', 'VARCHAR', 4),\n",
       " ('Gr6_8_Keep_Pace_Read__', 'VARCHAR', 4),\n",
       " ('Gr_8_Explore_Math__', 'VARCHAR', 4),\n",
       " ('Gr_8_Explore_Read__', 'VARCHAR', 4),\n",
       " ('ISAT_Exceeding_Math__', 'DECIMAL', 4),\n",
       " ('ISAT_Exceeding_Reading__', 'DECIMAL', 4),\n",
       " ('ISAT_Value_Add_Math', 'DECIMAL', 3),\n",
       " ('ISAT_Value_Add_Read', 'DECIMAL', 3),\n",
       " ('ISAT_Value_Add_Color_Math', 'VARCHAR', 6),\n",
       " ('ISAT_Value_Add_Color_Read', 'VARCHAR', 6),\n",
       " ('Students_Taking__Algebra__', 'VARCHAR', 4),\n",
       " ('Students_Passing__Algebra__', 'VARCHAR', 4),\n",
       " ('9th Grade EXPLORE (2009)', 'VARCHAR', 4),\n",
       " ('9th Grade EXPLORE (2010)', 'VARCHAR', 4),\n",
       " ('10th Grade PLAN (2009)', 'VARCHAR', 4),\n",
       " ('10th Grade PLAN (2010)', 'VARCHAR', 4),\n",
       " ('Net_Change_EXPLORE_and_PLAN', 'VARCHAR', 3),\n",
       " ('11th Grade Average ACT (2011)', 'VARCHAR', 4),\n",
       " ('Net_Change_PLAN_and_ACT', 'VARCHAR', 3),\n",
       " ('College_Eligibility__', 'VARCHAR', 4),\n",
       " ('Graduation_Rate__', 'VARCHAR', 4),\n",
       " ('College_Enrollment_Rate__', 'VARCHAR', 4),\n",
       " ('COLLEGE_ENROLLMENT', 'SMALLINT', 2),\n",
       " ('General_Services_Route', 'SMALLINT', 2),\n",
       " ('Freshman_on_Track_Rate__', 'VARCHAR', 4),\n",
       " ('X_COORDINATE', 'DECIMAL', 13),\n",
       " ('Y_COORDINATE', 'DECIMAL', 13),\n",
       " ('Latitude', 'DECIMAL', 18),\n",
       " ('Longitude', 'DECIMAL', 18),\n",
       " ('COMMUNITY_AREA_NUMBER', 'SMALLINT', 2),\n",
       " ('COMMUNITY_AREA_NAME', 'VARCHAR', 22),\n",
       " ('Ward', 'SMALLINT', 2),\n",
       " ('Police_District', 'SMALLINT', 2),\n",
       " ('Location', 'VARCHAR', 27)]"
      ]
     },
     "execution_count": 29,
     "metadata": {},
     "output_type": "execute_result"
    }
   ],
   "source": [
    "%sql select COLNAME as \"Column name\", TYPENAME as \"Type\", LENGTH as \"Lenght\"\\\n",
    "from SYSCAT.COLUMNS \\\n",
    "where TABNAME = 'SCHOOLS'"
   ]
  },
  {
   "cell_type": "markdown",
   "metadata": {},
   "source": [
    "#### Questions\n",
    "1. Is the column name for the \"SCHOOL ID\" attribute in upper or mixed case? **_Mixed case_**\n",
    "1. What is the name of \"Community Area Name\" column in your table? Does it have spaces? **_COMMUNITY_AREA_NAME, no there is underscores, not spaces_**\n",
    "1. Are there any columns in whose names the spaces and paranthesis (round brackets) have been replaced by the underscore character \"_\"? **_Yes_**"
   ]
  },
  {
   "cell_type": "markdown",
   "metadata": {},
   "source": [
    "#### Problems\n",
    "\n",
    "##### Problem 1: How many Elementary Schools are in the dataset?"
   ]
  },
  {
   "cell_type": "code",
   "execution_count": 65,
   "metadata": {},
   "outputs": [
    {
     "name": "stdout",
     "output_type": "stream",
     "text": [
      " * ibm_db_sa://zcl11296:***@dashdb-txn-sbox-yp-dal09-04.services.dal.bluemix.net:50000/BLUDB\n",
      "Done.\n"
     ]
    }
   ],
   "source": [
    "#let's put our table in pandas dataframe\n",
    "data = %sql select * from SCHOOLS \n",
    "\n",
    "data_df = data.DataFrame()\n",
    "\n",
    "#data_df.head()"
   ]
  },
  {
   "cell_type": "code",
   "execution_count": 51,
   "metadata": {},
   "outputs": [],
   "source": [
    "# Let's see columns names in dataframe\n",
    "#list(data_df.columns)"
   ]
  },
  {
   "cell_type": "code",
   "execution_count": 68,
   "metadata": {},
   "outputs": [],
   "source": [
    "#change spaces to underscores in 3rd columns\n",
    "data_df = data_df.rename(columns={'Elementary, Middle, or High School':'Elementary_Middle_or_High_School'})"
   ]
  },
  {
   "cell_type": "code",
   "execution_count": 69,
   "metadata": {},
   "outputs": [
    {
     "data": {
      "text/plain": [
       "ES    462\n",
       "HS     93\n",
       "MS     11\n",
       "Name: Elementary_Middle_or_High_School, dtype: int64"
      ]
     },
     "execution_count": 69,
     "metadata": {},
     "output_type": "execute_result"
    }
   ],
   "source": [
    "# count the unique values in 3rd column\n",
    "data_df.Elementary_Middle_or_High_School.value_counts()\n"
   ]
  },
  {
   "cell_type": "markdown",
   "metadata": {},
   "source": [
    "Answer - 462 Elementary schools"
   ]
  },
  {
   "cell_type": "code",
   "execution_count": 75,
   "metadata": {},
   "outputs": [
    {
     "name": "stdout",
     "output_type": "stream",
     "text": [
      "There is 462 Elementary schools in this dataset\n"
     ]
    }
   ],
   "source": [
    "#solution in pandas for problem 1\n",
    "school_types = data_df.Elementary_Middle_or_High_School.value_counts()\n",
    "ES_count = school_types[0]\n",
    "\n",
    "print(\"There is\", ES_count, \"Elementary schools in this dataset\")"
   ]
  },
  {
   "cell_type": "code",
   "execution_count": 78,
   "metadata": {},
   "outputs": [
    {
     "name": "stdout",
     "output_type": "stream",
     "text": [
      " * ibm_db_sa://zcl11296:***@dashdb-txn-sbox-yp-dal09-04.services.dal.bluemix.net:50000/BLUDB\n",
      "Done.\n"
     ]
    },
    {
     "data": {
      "text/html": [
       "<table>\n",
       "    <tr>\n",
       "        <th>Elementary, Middle, or High School</th>\n",
       "        <th>Count</th>\n",
       "    </tr>\n",
       "    <tr>\n",
       "        <td>ES</td>\n",
       "        <td>462</td>\n",
       "    </tr>\n",
       "    <tr>\n",
       "        <td>HS</td>\n",
       "        <td>93</td>\n",
       "    </tr>\n",
       "    <tr>\n",
       "        <td>MS</td>\n",
       "        <td>11</td>\n",
       "    </tr>\n",
       "</table>"
      ],
      "text/plain": [
       "[('ES', Decimal('462')), ('HS', Decimal('93')), ('MS', Decimal('11'))]"
      ]
     },
     "execution_count": 78,
     "metadata": {},
     "output_type": "execute_result"
    }
   ],
   "source": [
    "#Solution in sql for problem \n",
    "%sql select  \"Elementary, Middle, or High School\", count(\"Elementary, Middle, or High School\") as \"Count\"\\\n",
    "from SCHOOLS \\\n",
    "group by \"Elementary, Middle, or High School\"\n"
   ]
  },
  {
   "cell_type": "code",
   "execution_count": 80,
   "metadata": {},
   "outputs": [
    {
     "name": "stdout",
     "output_type": "stream",
     "text": [
      " * ibm_db_sa://zcl11296:***@dashdb-txn-sbox-yp-dal09-04.services.dal.bluemix.net:50000/BLUDB\n",
      "Done.\n"
     ]
    },
    {
     "data": {
      "text/html": [
       "<table>\n",
       "    <tr>\n",
       "        <th>1</th>\n",
       "    </tr>\n",
       "    <tr>\n",
       "        <td>462</td>\n",
       "    </tr>\n",
       "</table>"
      ],
      "text/plain": [
       "[(Decimal('462'),)]"
      ]
     },
     "execution_count": 80,
     "metadata": {},
     "output_type": "execute_result"
    }
   ],
   "source": [
    "#Given solution:\n",
    "%sql select count(*) \\\n",
    "from SCHOOLS \\\n",
    "where \"Elementary, Middle, or High School\" = 'ES'"
   ]
  },
  {
   "cell_type": "markdown",
   "metadata": {},
   "source": [
    "#### Problem 2: What is the highest Safety Score?"
   ]
  },
  {
   "cell_type": "code",
   "execution_count": 83,
   "metadata": {},
   "outputs": [
    {
     "name": "stdout",
     "output_type": "stream",
     "text": [
      " * ibm_db_sa://zcl11296:***@dashdb-txn-sbox-yp-dal09-04.services.dal.bluemix.net:50000/BLUDB\n",
      "Done.\n"
     ]
    },
    {
     "data": {
      "text/html": [
       "<table>\n",
       "    <tr>\n",
       "        <th>max_safety_score</th>\n",
       "    </tr>\n",
       "    <tr>\n",
       "        <td>99</td>\n",
       "    </tr>\n",
       "</table>"
      ],
      "text/plain": [
       "[(99,)]"
      ]
     },
     "execution_count": 83,
     "metadata": {},
     "output_type": "execute_result"
    }
   ],
   "source": [
    "%sql select max(SAFETY_SCORE) as MAX_SAFETY_SCORE\\\n",
    "from SCHOOLS"
   ]
  },
  {
   "cell_type": "markdown",
   "metadata": {},
   "source": [
    "#### Problem 3: Which schools have highest Safety Score?"
   ]
  },
  {
   "cell_type": "code",
   "execution_count": 85,
   "metadata": {},
   "outputs": [
    {
     "name": "stdout",
     "output_type": "stream",
     "text": [
      " * ibm_db_sa://zcl11296:***@dashdb-txn-sbox-yp-dal09-04.services.dal.bluemix.net:50000/BLUDB\n",
      "Done.\n"
     ]
    },
    {
     "data": {
      "text/html": [
       "<table>\n",
       "    <tr>\n",
       "        <th>schools_with_maximum_safety_score</th>\n",
       "        <th>safety_score</th>\n",
       "    </tr>\n",
       "    <tr>\n",
       "        <td>Abraham Lincoln Elementary School</td>\n",
       "        <td>99</td>\n",
       "    </tr>\n",
       "    <tr>\n",
       "        <td>Alexander Graham Bell Elementary School</td>\n",
       "        <td>99</td>\n",
       "    </tr>\n",
       "    <tr>\n",
       "        <td>Annie Keller Elementary Gifted Magnet School</td>\n",
       "        <td>99</td>\n",
       "    </tr>\n",
       "    <tr>\n",
       "        <td>Augustus H Burley Elementary School</td>\n",
       "        <td>99</td>\n",
       "    </tr>\n",
       "    <tr>\n",
       "        <td>Edgar Allan Poe Elementary Classical School</td>\n",
       "        <td>99</td>\n",
       "    </tr>\n",
       "    <tr>\n",
       "        <td>Edgebrook Elementary School</td>\n",
       "        <td>99</td>\n",
       "    </tr>\n",
       "    <tr>\n",
       "        <td>Ellen Mitchell Elementary School</td>\n",
       "        <td>99</td>\n",
       "    </tr>\n",
       "    <tr>\n",
       "        <td>James E McDade Elementary Classical School</td>\n",
       "        <td>99</td>\n",
       "    </tr>\n",
       "    <tr>\n",
       "        <td>James G Blaine Elementary School</td>\n",
       "        <td>99</td>\n",
       "    </tr>\n",
       "    <tr>\n",
       "        <td>LaSalle Elementary Language Academy</td>\n",
       "        <td>99</td>\n",
       "    </tr>\n",
       "    <tr>\n",
       "        <td>Mary E Courtenay Elementary Language Arts Center</td>\n",
       "        <td>99</td>\n",
       "    </tr>\n",
       "    <tr>\n",
       "        <td>Northside College Preparatory High School</td>\n",
       "        <td>99</td>\n",
       "    </tr>\n",
       "    <tr>\n",
       "        <td>Northside Learning Center High School</td>\n",
       "        <td>99</td>\n",
       "    </tr>\n",
       "    <tr>\n",
       "        <td>Norwood Park Elementary School</td>\n",
       "        <td>99</td>\n",
       "    </tr>\n",
       "    <tr>\n",
       "        <td>Oriole Park Elementary School</td>\n",
       "        <td>99</td>\n",
       "    </tr>\n",
       "    <tr>\n",
       "        <td>Sauganash Elementary School</td>\n",
       "        <td>99</td>\n",
       "    </tr>\n",
       "    <tr>\n",
       "        <td>Stephen Decatur Classical Elementary School</td>\n",
       "        <td>99</td>\n",
       "    </tr>\n",
       "    <tr>\n",
       "        <td>Talman Elementary School</td>\n",
       "        <td>99</td>\n",
       "    </tr>\n",
       "    <tr>\n",
       "        <td>Wildwood Elementary School</td>\n",
       "        <td>99</td>\n",
       "    </tr>\n",
       "</table>"
      ],
      "text/plain": [
       "[('Abraham Lincoln Elementary School', 99),\n",
       " ('Alexander Graham Bell Elementary School', 99),\n",
       " ('Annie Keller Elementary Gifted Magnet School', 99),\n",
       " ('Augustus H Burley Elementary School', 99),\n",
       " ('Edgar Allan Poe Elementary Classical School', 99),\n",
       " ('Edgebrook Elementary School', 99),\n",
       " ('Ellen Mitchell Elementary School', 99),\n",
       " ('James E McDade Elementary Classical School', 99),\n",
       " ('James G Blaine Elementary School', 99),\n",
       " ('LaSalle Elementary Language Academy', 99),\n",
       " ('Mary E Courtenay Elementary Language Arts Center', 99),\n",
       " ('Northside College Preparatory High School', 99),\n",
       " ('Northside Learning Center High School', 99),\n",
       " ('Norwood Park Elementary School', 99),\n",
       " ('Oriole Park Elementary School', 99),\n",
       " ('Sauganash Elementary School', 99),\n",
       " ('Stephen Decatur Classical Elementary School', 99),\n",
       " ('Talman Elementary School', 99),\n",
       " ('Wildwood Elementary School', 99)]"
      ]
     },
     "execution_count": 85,
     "metadata": {},
     "output_type": "execute_result"
    }
   ],
   "source": [
    "%sql select NAME_OF_SCHOOL as schools_with_maximum_safety_score, Safety_Score\\\n",
    "from SCHOOLS\\\n",
    "where SAFETY_SCORE = (select max(SAFETY_SCORE) as MAX_SAFETY_SCORE\\\n",
    "                        from SCHOOLS)"
   ]
  },
  {
   "cell_type": "code",
   "execution_count": 94,
   "metadata": {},
   "outputs": [
    {
     "name": "stdout",
     "output_type": "stream",
     "text": [
      " * ibm_db_sa://zcl11296:***@dashdb-txn-sbox-yp-dal09-04.services.dal.bluemix.net:50000/BLUDB\n",
      "Done.\n"
     ]
    },
    {
     "data": {
      "text/html": [
       "<table>\n",
       "    <tr>\n",
       "        <th>Elementary, Middle, or High School</th>\n",
       "        <th>2</th>\n",
       "    </tr>\n",
       "    <tr>\n",
       "        <td>ES</td>\n",
       "        <td>17</td>\n",
       "    </tr>\n",
       "    <tr>\n",
       "        <td>HS</td>\n",
       "        <td>2</td>\n",
       "    </tr>\n",
       "</table>"
      ],
      "text/plain": [
       "[('ES', Decimal('17')), ('HS', Decimal('2'))]"
      ]
     },
     "execution_count": 94,
     "metadata": {},
     "output_type": "execute_result"
    }
   ],
   "source": [
    "#What type of schools have the highest scores? \n",
    "%sql select \"Elementary, Middle, or High School\", count(\"Elementary, Middle, or High School\")\\\n",
    "from SCHOOLS\\\n",
    "where SAFETY_SCORE = (select max(SAFETY_SCORE) from SCHOOLS)\\\n",
    "group by \"Elementary, Middle, or High School\"\n",
    "\n",
    "#no middle schools"
   ]
  },
  {
   "cell_type": "markdown",
   "metadata": {},
   "source": [
    "#### Problem 4: What are the top 10 schools with the highest \"Average Student Attendance\"?"
   ]
  },
  {
   "cell_type": "code",
   "execution_count": 103,
   "metadata": {},
   "outputs": [
    {
     "name": "stdout",
     "output_type": "stream",
     "text": [
      " * ibm_db_sa://zcl11296:***@dashdb-txn-sbox-yp-dal09-04.services.dal.bluemix.net:50000/BLUDB\n",
      "Done.\n"
     ]
    },
    {
     "data": {
      "text/html": [
       "<table>\n",
       "    <tr>\n",
       "        <th>top_10_schools_by_avg</th>\n",
       "        <th>average_student_attendance</th>\n",
       "    </tr>\n",
       "    <tr>\n",
       "        <td>John Charles Haines Elementary School</td>\n",
       "        <td>98.40%</td>\n",
       "    </tr>\n",
       "    <tr>\n",
       "        <td>James Ward Elementary School</td>\n",
       "        <td>97.80%</td>\n",
       "    </tr>\n",
       "    <tr>\n",
       "        <td>Edgar Allan Poe Elementary Classical School</td>\n",
       "        <td>97.60%</td>\n",
       "    </tr>\n",
       "    <tr>\n",
       "        <td>Orozco Fine Arts &amp; Sciences Elementary School</td>\n",
       "        <td>97.60%</td>\n",
       "    </tr>\n",
       "    <tr>\n",
       "        <td>Rachel Carson Elementary School</td>\n",
       "        <td>97.60%</td>\n",
       "    </tr>\n",
       "    <tr>\n",
       "        <td>Annie Keller Elementary Gifted Magnet School</td>\n",
       "        <td>97.50%</td>\n",
       "    </tr>\n",
       "    <tr>\n",
       "        <td>Andrew Jackson Elementary Language Academy</td>\n",
       "        <td>97.40%</td>\n",
       "    </tr>\n",
       "    <tr>\n",
       "        <td>Lenart Elementary Regional Gifted Center</td>\n",
       "        <td>97.40%</td>\n",
       "    </tr>\n",
       "    <tr>\n",
       "        <td>Disney II Magnet School</td>\n",
       "        <td>97.30%</td>\n",
       "    </tr>\n",
       "    <tr>\n",
       "        <td>John H Vanderpoel Elementary Magnet School</td>\n",
       "        <td>97.20%</td>\n",
       "    </tr>\n",
       "</table>"
      ],
      "text/plain": [
       "[('John Charles Haines Elementary School', '98.40%'),\n",
       " ('James Ward Elementary School', '97.80%'),\n",
       " ('Edgar Allan Poe Elementary Classical School', '97.60%'),\n",
       " ('Orozco Fine Arts & Sciences Elementary School', '97.60%'),\n",
       " ('Rachel Carson Elementary School', '97.60%'),\n",
       " ('Annie Keller Elementary Gifted Magnet School', '97.50%'),\n",
       " ('Andrew Jackson Elementary Language Academy', '97.40%'),\n",
       " ('Lenart Elementary Regional Gifted Center', '97.40%'),\n",
       " ('Disney II Magnet School', '97.30%'),\n",
       " ('John H Vanderpoel Elementary Magnet School', '97.20%')]"
      ]
     },
     "execution_count": 103,
     "metadata": {},
     "output_type": "execute_result"
    }
   ],
   "source": [
    "%sql select NAME_OF_SCHOOL as top_10_schools_by_avg, Average_Student_Attendance\\\n",
    "from SCHOOLS\\\n",
    "order by Average_Student_Attendance desc nulls last\\\n",
    "limit 10\n",
    "\n",
    "#Nulls last - rows without values at the bottom. by default - at the top. "
   ]
  },
  {
   "cell_type": "markdown",
   "metadata": {},
   "source": [
    "#### Problem 5: Retrieve the list of 5 Schools with the lowest Average Student Attendance sorted in ascending order based on attendance"
   ]
  },
  {
   "cell_type": "code",
   "execution_count": 104,
   "metadata": {},
   "outputs": [
    {
     "name": "stdout",
     "output_type": "stream",
     "text": [
      " * ibm_db_sa://zcl11296:***@dashdb-txn-sbox-yp-dal09-04.services.dal.bluemix.net:50000/BLUDB\n",
      "Done.\n"
     ]
    },
    {
     "data": {
      "text/html": [
       "<table>\n",
       "    <tr>\n",
       "        <th>bottom_5_schools_by_avg</th>\n",
       "        <th>average_student_attendance</th>\n",
       "    </tr>\n",
       "    <tr>\n",
       "        <td>Richard T Crane Technical Preparatory High School</td>\n",
       "        <td>57.90%</td>\n",
       "    </tr>\n",
       "    <tr>\n",
       "        <td>Barbara Vick Early Childhood &amp; Family Center</td>\n",
       "        <td>60.90%</td>\n",
       "    </tr>\n",
       "    <tr>\n",
       "        <td>Dyett High School</td>\n",
       "        <td>62.50%</td>\n",
       "    </tr>\n",
       "    <tr>\n",
       "        <td>Wendell Phillips Academy High School</td>\n",
       "        <td>63.00%</td>\n",
       "    </tr>\n",
       "    <tr>\n",
       "        <td>Orr Academy High School</td>\n",
       "        <td>66.30%</td>\n",
       "    </tr>\n",
       "</table>"
      ],
      "text/plain": [
       "[('Richard T Crane Technical Preparatory High School', '57.90%'),\n",
       " ('Barbara Vick Early Childhood & Family Center', '60.90%'),\n",
       " ('Dyett High School', '62.50%'),\n",
       " ('Wendell Phillips Academy High School', '63.00%'),\n",
       " ('Orr Academy High School', '66.30%')]"
      ]
     },
     "execution_count": 104,
     "metadata": {},
     "output_type": "execute_result"
    }
   ],
   "source": [
    "%sql select NAME_OF_SCHOOL as bottom_5_schools_by_avg, Average_Student_Attendance\\\n",
    "from SCHOOLS\\\n",
    "order by Average_Student_Attendance \\\n",
    "limit 5"
   ]
  },
  {
   "cell_type": "code",
   "execution_count": 105,
   "metadata": {},
   "outputs": [
    {
     "name": "stdout",
     "output_type": "stream",
     "text": [
      " * ibm_db_sa://zcl11296:***@dashdb-txn-sbox-yp-dal09-04.services.dal.bluemix.net:50000/BLUDB\n",
      "Done.\n"
     ]
    },
    {
     "data": {
      "text/html": [
       "<table>\n",
       "    <tr>\n",
       "        <th>name_of_school</th>\n",
       "        <th>average_student_attendance</th>\n",
       "    </tr>\n",
       "    <tr>\n",
       "        <td>Richard T Crane Technical Preparatory High School</td>\n",
       "        <td>57.90%</td>\n",
       "    </tr>\n",
       "    <tr>\n",
       "        <td>Barbara Vick Early Childhood &amp; Family Center</td>\n",
       "        <td>60.90%</td>\n",
       "    </tr>\n",
       "    <tr>\n",
       "        <td>Dyett High School</td>\n",
       "        <td>62.50%</td>\n",
       "    </tr>\n",
       "    <tr>\n",
       "        <td>Wendell Phillips Academy High School</td>\n",
       "        <td>63.00%</td>\n",
       "    </tr>\n",
       "    <tr>\n",
       "        <td>Orr Academy High School</td>\n",
       "        <td>66.30%</td>\n",
       "    </tr>\n",
       "</table>"
      ],
      "text/plain": [
       "[('Richard T Crane Technical Preparatory High School', '57.90%'),\n",
       " ('Barbara Vick Early Childhood & Family Center', '60.90%'),\n",
       " ('Dyett High School', '62.50%'),\n",
       " ('Wendell Phillips Academy High School', '63.00%'),\n",
       " ('Orr Academy High School', '66.30%')]"
      ]
     },
     "execution_count": 105,
     "metadata": {},
     "output_type": "execute_result"
    }
   ],
   "source": [
    "#Solution from the lesson:\n",
    "%sql SELECT Name_of_School, Average_Student_Attendance  \\\n",
    "     from SCHOOLS \\\n",
    "     order by Average_Student_Attendance \\\n",
    "     fetch first 5 rows only"
   ]
  },
  {
   "cell_type": "markdown",
   "metadata": {},
   "source": [
    "#### Problem 6: Now remove the '%' sign from the above result set for Average Student Attendance column"
   ]
  },
  {
   "cell_type": "code",
   "execution_count": 117,
   "metadata": {},
   "outputs": [
    {
     "name": "stdout",
     "output_type": "stream",
     "text": [
      " * ibm_db_sa://zcl11296:***@dashdb-txn-sbox-yp-dal09-04.services.dal.bluemix.net:50000/BLUDB\n",
      "Done.\n"
     ]
    },
    {
     "data": {
      "text/html": [
       "<table>\n",
       "    <tr>\n",
       "        <th>bottom_5_schools_by_avg_attendance</th>\n",
       "        <th>average_student_attendance</th>\n",
       "    </tr>\n",
       "    <tr>\n",
       "        <td>Richard T Crane Technical Preparatory High School</td>\n",
       "        <td>57.90</td>\n",
       "    </tr>\n",
       "    <tr>\n",
       "        <td>Barbara Vick Early Childhood &amp; Family Center</td>\n",
       "        <td>60.90</td>\n",
       "    </tr>\n",
       "    <tr>\n",
       "        <td>Dyett High School</td>\n",
       "        <td>62.50</td>\n",
       "    </tr>\n",
       "    <tr>\n",
       "        <td>Wendell Phillips Academy High School</td>\n",
       "        <td>63.00</td>\n",
       "    </tr>\n",
       "    <tr>\n",
       "        <td>Orr Academy High School</td>\n",
       "        <td>66.30</td>\n",
       "    </tr>\n",
       "</table>"
      ],
      "text/plain": [
       "[('Richard T Crane Technical Preparatory High School', '57.90'),\n",
       " ('Barbara Vick Early Childhood & Family Center', '60.90'),\n",
       " ('Dyett High School', '62.50'),\n",
       " ('Wendell Phillips Academy High School', '63.00'),\n",
       " ('Orr Academy High School', '66.30')]"
      ]
     },
     "execution_count": 117,
     "metadata": {},
     "output_type": "execute_result"
    }
   ],
   "source": [
    "%sql select NAME_OF_SCHOOL as bottom_5_schools_by_avg_attendance, \\\n",
    "REPLACE(Average_Student_Attendance,'%','') as average_student_attendance\\\n",
    "from SCHOOLS\\\n",
    "order by Average_Student_Attendance \\\n",
    "limit 5"
   ]
  },
  {
   "cell_type": "code",
   "execution_count": 115,
   "metadata": {},
   "outputs": [
    {
     "name": "stdout",
     "output_type": "stream",
     "text": [
      " * ibm_db_sa://zcl11296:***@dashdb-txn-sbox-yp-dal09-04.services.dal.bluemix.net:50000/BLUDB\n",
      "Done.\n"
     ]
    },
    {
     "data": {
      "text/html": [
       "<table>\n",
       "    <tr>\n",
       "        <th>name_of_school</th>\n",
       "        <th>2</th>\n",
       "    </tr>\n",
       "    <tr>\n",
       "        <td>Richard T Crane Technical Preparatory High School</td>\n",
       "        <td>57.90</td>\n",
       "    </tr>\n",
       "    <tr>\n",
       "        <td>Barbara Vick Early Childhood &amp; Family Center</td>\n",
       "        <td>60.90</td>\n",
       "    </tr>\n",
       "    <tr>\n",
       "        <td>Dyett High School</td>\n",
       "        <td>62.50</td>\n",
       "    </tr>\n",
       "    <tr>\n",
       "        <td>Wendell Phillips Academy High School</td>\n",
       "        <td>63.00</td>\n",
       "    </tr>\n",
       "    <tr>\n",
       "        <td>Orr Academy High School</td>\n",
       "        <td>66.30</td>\n",
       "    </tr>\n",
       "</table>"
      ],
      "text/plain": [
       "[('Richard T Crane Technical Preparatory High School', '57.90'),\n",
       " ('Barbara Vick Early Childhood & Family Center', '60.90'),\n",
       " ('Dyett High School', '62.50'),\n",
       " ('Wendell Phillips Academy High School', '63.00'),\n",
       " ('Orr Academy High School', '66.30')]"
      ]
     },
     "execution_count": 115,
     "metadata": {},
     "output_type": "execute_result"
    }
   ],
   "source": [
    "#Solution in the lesson:\n",
    "%sql SELECT Name_of_School, REPLACE(Average_Student_Attendance, '%', '') \\\n",
    "     from SCHOOLS \\\n",
    "     order by Average_Student_Attendance \\\n",
    "     fetch first 5 rows only"
   ]
  },
  {
   "cell_type": "markdown",
   "metadata": {},
   "source": [
    "#### Problem 7: Which Schools have Average Student Attendance lower than 70%?"
   ]
  },
  {
   "cell_type": "code",
   "execution_count": 130,
   "metadata": {},
   "outputs": [
    {
     "name": "stdout",
     "output_type": "stream",
     "text": [
      " * ibm_db_sa://zcl11296:***@dashdb-txn-sbox-yp-dal09-04.services.dal.bluemix.net:50000/BLUDB\n",
      "Done.\n"
     ]
    },
    {
     "data": {
      "text/html": [
       "<table>\n",
       "    <tr>\n",
       "        <th>schools_with_&gt;70%</th>\n",
       "        <th>average_student_attendance</th>\n",
       "    </tr>\n",
       "    <tr>\n",
       "        <td>Richard T Crane Technical Preparatory High School</td>\n",
       "        <td>57.90%</td>\n",
       "    </tr>\n",
       "    <tr>\n",
       "        <td>Barbara Vick Early Childhood &amp; Family Center</td>\n",
       "        <td>60.90%</td>\n",
       "    </tr>\n",
       "    <tr>\n",
       "        <td>Dyett High School</td>\n",
       "        <td>62.50%</td>\n",
       "    </tr>\n",
       "    <tr>\n",
       "        <td>Wendell Phillips Academy High School</td>\n",
       "        <td>63.00%</td>\n",
       "    </tr>\n",
       "    <tr>\n",
       "        <td>Orr Academy High School</td>\n",
       "        <td>66.30%</td>\n",
       "    </tr>\n",
       "    <tr>\n",
       "        <td>Manley Career Academy High School</td>\n",
       "        <td>66.80%</td>\n",
       "    </tr>\n",
       "    <tr>\n",
       "        <td>Chicago Vocational Career Academy High School</td>\n",
       "        <td>68.80%</td>\n",
       "    </tr>\n",
       "    <tr>\n",
       "        <td>Roberto Clemente Community Academy High School</td>\n",
       "        <td>69.60%</td>\n",
       "    </tr>\n",
       "</table>"
      ],
      "text/plain": [
       "[('Richard T Crane Technical Preparatory High School', '57.90%'),\n",
       " ('Barbara Vick Early Childhood & Family Center', '60.90%'),\n",
       " ('Dyett High School', '62.50%'),\n",
       " ('Wendell Phillips Academy High School', '63.00%'),\n",
       " ('Orr Academy High School', '66.30%'),\n",
       " ('Manley Career Academy High School', '66.80%'),\n",
       " ('Chicago Vocational Career Academy High School', '68.80%'),\n",
       " ('Roberto Clemente Community Academy High School', '69.60%')]"
      ]
     },
     "execution_count": 130,
     "metadata": {},
     "output_type": "execute_result"
    }
   ],
   "source": [
    "%sql select NAME_OF_SCHOOL as \"schools_with_>70%\", Average_Student_Attendance\\\n",
    "from SCHOOLS\\\n",
    "where DECIMAL(REPLACE(Average_Student_Attendance, '%', '')) < 70\\\n",
    "order by Average_Student_Attendance"
   ]
  },
  {
   "cell_type": "markdown",
   "metadata": {},
   "source": [
    "#### Problem 8: Get the total College Enrollment for each Community Area"
   ]
  },
  {
   "cell_type": "code",
   "execution_count": 159,
   "metadata": {},
   "outputs": [
    {
     "name": "stdout",
     "output_type": "stream",
     "text": [
      " * ibm_db_sa://zcl11296:***@dashdb-txn-sbox-yp-dal09-04.services.dal.bluemix.net:50000/BLUDB\n",
      "Done.\n"
     ]
    },
    {
     "data": {
      "text/html": [
       "<table>\n",
       "    <tr>\n",
       "        <th>community_area_name</th>\n",
       "        <th>total_college_enrollment</th>\n",
       "    </tr>\n",
       "    <tr>\n",
       "        <td>ALBANY PARK</td>\n",
       "        <td>6864</td>\n",
       "    </tr>\n",
       "    <tr>\n",
       "        <td>ARCHER HEIGHTS</td>\n",
       "        <td>4823</td>\n",
       "    </tr>\n",
       "    <tr>\n",
       "        <td>ARMOUR SQUARE</td>\n",
       "        <td>1458</td>\n",
       "    </tr>\n",
       "    <tr>\n",
       "        <td>ASHBURN</td>\n",
       "        <td>6483</td>\n",
       "    </tr>\n",
       "    <tr>\n",
       "        <td>AUBURN GRESHAM</td>\n",
       "        <td>4175</td>\n",
       "    </tr>\n",
       "    <tr>\n",
       "        <td>AUSTIN</td>\n",
       "        <td>10933</td>\n",
       "    </tr>\n",
       "    <tr>\n",
       "        <td>AVALON PARK</td>\n",
       "        <td>1522</td>\n",
       "    </tr>\n",
       "    <tr>\n",
       "        <td>AVONDALE</td>\n",
       "        <td>3640</td>\n",
       "    </tr>\n",
       "    <tr>\n",
       "        <td>BELMONT CRAGIN</td>\n",
       "        <td>14386</td>\n",
       "    </tr>\n",
       "    <tr>\n",
       "        <td>BEVERLY</td>\n",
       "        <td>1636</td>\n",
       "    </tr>\n",
       "    <tr>\n",
       "        <td>BRIDGEPORT</td>\n",
       "        <td>3167</td>\n",
       "    </tr>\n",
       "    <tr>\n",
       "        <td>BRIGHTON PARK</td>\n",
       "        <td>9647</td>\n",
       "    </tr>\n",
       "    <tr>\n",
       "        <td>BURNSIDE</td>\n",
       "        <td>549</td>\n",
       "    </tr>\n",
       "    <tr>\n",
       "        <td>CALUMET HEIGHTS</td>\n",
       "        <td>1568</td>\n",
       "    </tr>\n",
       "    <tr>\n",
       "        <td>CHATHAM</td>\n",
       "        <td>5042</td>\n",
       "    </tr>\n",
       "    <tr>\n",
       "        <td>CHICAGO LAWN</td>\n",
       "        <td>7086</td>\n",
       "    </tr>\n",
       "    <tr>\n",
       "        <td>CLEARING</td>\n",
       "        <td>2085</td>\n",
       "    </tr>\n",
       "    <tr>\n",
       "        <td>DOUGLAS</td>\n",
       "        <td>4670</td>\n",
       "    </tr>\n",
       "    <tr>\n",
       "        <td>DUNNING</td>\n",
       "        <td>4568</td>\n",
       "    </tr>\n",
       "    <tr>\n",
       "        <td>EAST GARFIELD PARK</td>\n",
       "        <td>5337</td>\n",
       "    </tr>\n",
       "    <tr>\n",
       "        <td>EAST SIDE</td>\n",
       "        <td>5305</td>\n",
       "    </tr>\n",
       "    <tr>\n",
       "        <td>EDGEWATER</td>\n",
       "        <td>4600</td>\n",
       "    </tr>\n",
       "    <tr>\n",
       "        <td>EDISON PARK</td>\n",
       "        <td>910</td>\n",
       "    </tr>\n",
       "    <tr>\n",
       "        <td>ENGLEWOOD</td>\n",
       "        <td>6832</td>\n",
       "    </tr>\n",
       "    <tr>\n",
       "        <td>FOREST GLEN</td>\n",
       "        <td>1431</td>\n",
       "    </tr>\n",
       "    <tr>\n",
       "        <td>FULLER PARK</td>\n",
       "        <td>531</td>\n",
       "    </tr>\n",
       "    <tr>\n",
       "        <td>GAGE PARK</td>\n",
       "        <td>9915</td>\n",
       "    </tr>\n",
       "    <tr>\n",
       "        <td>GARFIELD RIDGE</td>\n",
       "        <td>4552</td>\n",
       "    </tr>\n",
       "    <tr>\n",
       "        <td>GRAND BOULEVARD</td>\n",
       "        <td>2809</td>\n",
       "    </tr>\n",
       "    <tr>\n",
       "        <td>GREATER GRAND CROSSING</td>\n",
       "        <td>4051</td>\n",
       "    </tr>\n",
       "    <tr>\n",
       "        <td>HEGEWISCH</td>\n",
       "        <td>963</td>\n",
       "    </tr>\n",
       "    <tr>\n",
       "        <td>HERMOSA</td>\n",
       "        <td>3975</td>\n",
       "    </tr>\n",
       "    <tr>\n",
       "        <td>HUMBOLDT PARK</td>\n",
       "        <td>8620</td>\n",
       "    </tr>\n",
       "    <tr>\n",
       "        <td>HYDE PARK</td>\n",
       "        <td>1930</td>\n",
       "    </tr>\n",
       "    <tr>\n",
       "        <td>IRVING PARK</td>\n",
       "        <td>7764</td>\n",
       "    </tr>\n",
       "    <tr>\n",
       "        <td>JEFFERSON PARK</td>\n",
       "        <td>1755</td>\n",
       "    </tr>\n",
       "    <tr>\n",
       "        <td>KENWOOD</td>\n",
       "        <td>4287</td>\n",
       "    </tr>\n",
       "    <tr>\n",
       "        <td>LAKE VIEW</td>\n",
       "        <td>7055</td>\n",
       "    </tr>\n",
       "    <tr>\n",
       "        <td>LINCOLN PARK</td>\n",
       "        <td>5615</td>\n",
       "    </tr>\n",
       "    <tr>\n",
       "        <td>LINCOLN SQUARE</td>\n",
       "        <td>4132</td>\n",
       "    </tr>\n",
       "    <tr>\n",
       "        <td>LOGAN SQUARE</td>\n",
       "        <td>7351</td>\n",
       "    </tr>\n",
       "    <tr>\n",
       "        <td>LOOP</td>\n",
       "        <td>871</td>\n",
       "    </tr>\n",
       "    <tr>\n",
       "        <td>LOWER WEST SIDE</td>\n",
       "        <td>7257</td>\n",
       "    </tr>\n",
       "    <tr>\n",
       "        <td>MCKINLEY PARK</td>\n",
       "        <td>1552</td>\n",
       "    </tr>\n",
       "    <tr>\n",
       "        <td>MONTCLARE</td>\n",
       "        <td>1317</td>\n",
       "    </tr>\n",
       "    <tr>\n",
       "        <td>MORGAN PARK</td>\n",
       "        <td>3271</td>\n",
       "    </tr>\n",
       "    <tr>\n",
       "        <td>MOUNT GREENWOOD</td>\n",
       "        <td>2091</td>\n",
       "    </tr>\n",
       "    <tr>\n",
       "        <td>NEAR NORTH SIDE</td>\n",
       "        <td>3362</td>\n",
       "    </tr>\n",
       "    <tr>\n",
       "        <td>NEAR SOUTH SIDE</td>\n",
       "        <td>1378</td>\n",
       "    </tr>\n",
       "    <tr>\n",
       "        <td>NEAR WEST SIDE</td>\n",
       "        <td>7975</td>\n",
       "    </tr>\n",
       "    <tr>\n",
       "        <td>NEW CITY</td>\n",
       "        <td>7922</td>\n",
       "    </tr>\n",
       "    <tr>\n",
       "        <td>NORTH CENTER</td>\n",
       "        <td>7541</td>\n",
       "    </tr>\n",
       "    <tr>\n",
       "        <td>NORTH LAWNDALE</td>\n",
       "        <td>5146</td>\n",
       "    </tr>\n",
       "    <tr>\n",
       "        <td>NORTH PARK</td>\n",
       "        <td>4210</td>\n",
       "    </tr>\n",
       "    <tr>\n",
       "        <td>NORWOOD PARK</td>\n",
       "        <td>6469</td>\n",
       "    </tr>\n",
       "    <tr>\n",
       "        <td>OAKLAND</td>\n",
       "        <td>140</td>\n",
       "    </tr>\n",
       "    <tr>\n",
       "        <td>OHARE</td>\n",
       "        <td>786</td>\n",
       "    </tr>\n",
       "    <tr>\n",
       "        <td>PORTAGE PARK</td>\n",
       "        <td>6954</td>\n",
       "    </tr>\n",
       "    <tr>\n",
       "        <td>PULLMAN</td>\n",
       "        <td>1620</td>\n",
       "    </tr>\n",
       "    <tr>\n",
       "        <td>RIVERDALE</td>\n",
       "        <td>1547</td>\n",
       "    </tr>\n",
       "    <tr>\n",
       "        <td>ROGERS PARK</td>\n",
       "        <td>4068</td>\n",
       "    </tr>\n",
       "    <tr>\n",
       "        <td>ROSELAND</td>\n",
       "        <td>7020</td>\n",
       "    </tr>\n",
       "    <tr>\n",
       "        <td>SOUTH CHICAGO</td>\n",
       "        <td>4043</td>\n",
       "    </tr>\n",
       "    <tr>\n",
       "        <td>SOUTH DEERING</td>\n",
       "        <td>1859</td>\n",
       "    </tr>\n",
       "    <tr>\n",
       "        <td>SOUTH LAWNDALE</td>\n",
       "        <td>14793</td>\n",
       "    </tr>\n",
       "    <tr>\n",
       "        <td>SOUTH SHORE</td>\n",
       "        <td>4543</td>\n",
       "    </tr>\n",
       "    <tr>\n",
       "        <td>UPTOWN</td>\n",
       "        <td>4388</td>\n",
       "    </tr>\n",
       "    <tr>\n",
       "        <td>WASHINGTON HEIGHTS</td>\n",
       "        <td>4006</td>\n",
       "    </tr>\n",
       "    <tr>\n",
       "        <td>WASHINGTON PARK</td>\n",
       "        <td>2648</td>\n",
       "    </tr>\n",
       "    <tr>\n",
       "        <td>WEST ELSDON</td>\n",
       "        <td>3700</td>\n",
       "    </tr>\n",
       "    <tr>\n",
       "        <td>WEST ENGLEWOOD</td>\n",
       "        <td>5946</td>\n",
       "    </tr>\n",
       "    <tr>\n",
       "        <td>WEST GARFIELD PARK</td>\n",
       "        <td>2622</td>\n",
       "    </tr>\n",
       "    <tr>\n",
       "        <td>WEST LAWN</td>\n",
       "        <td>4207</td>\n",
       "    </tr>\n",
       "    <tr>\n",
       "        <td>WEST PULLMAN</td>\n",
       "        <td>3240</td>\n",
       "    </tr>\n",
       "    <tr>\n",
       "        <td>WEST RIDGE</td>\n",
       "        <td>8197</td>\n",
       "    </tr>\n",
       "    <tr>\n",
       "        <td>WEST TOWN</td>\n",
       "        <td>9429</td>\n",
       "    </tr>\n",
       "    <tr>\n",
       "        <td>WOODLAWN</td>\n",
       "        <td>4206</td>\n",
       "    </tr>\n",
       "</table>"
      ],
      "text/plain": [
       "[('ALBANY PARK', 6864),\n",
       " ('ARCHER HEIGHTS', 4823),\n",
       " ('ARMOUR SQUARE', 1458),\n",
       " ('ASHBURN', 6483),\n",
       " ('AUBURN GRESHAM', 4175),\n",
       " ('AUSTIN', 10933),\n",
       " ('AVALON PARK', 1522),\n",
       " ('AVONDALE', 3640),\n",
       " ('BELMONT CRAGIN', 14386),\n",
       " ('BEVERLY', 1636),\n",
       " ('BRIDGEPORT', 3167),\n",
       " ('BRIGHTON PARK', 9647),\n",
       " ('BURNSIDE', 549),\n",
       " ('CALUMET HEIGHTS', 1568),\n",
       " ('CHATHAM', 5042),\n",
       " ('CHICAGO LAWN', 7086),\n",
       " ('CLEARING', 2085),\n",
       " ('DOUGLAS', 4670),\n",
       " ('DUNNING', 4568),\n",
       " ('EAST GARFIELD PARK', 5337),\n",
       " ('EAST SIDE', 5305),\n",
       " ('EDGEWATER', 4600),\n",
       " ('EDISON PARK', 910),\n",
       " ('ENGLEWOOD', 6832),\n",
       " ('FOREST GLEN', 1431),\n",
       " ('FULLER PARK', 531),\n",
       " ('GAGE PARK', 9915),\n",
       " ('GARFIELD RIDGE', 4552),\n",
       " ('GRAND BOULEVARD', 2809),\n",
       " ('GREATER GRAND CROSSING', 4051),\n",
       " ('HEGEWISCH', 963),\n",
       " ('HERMOSA', 3975),\n",
       " ('HUMBOLDT PARK', 8620),\n",
       " ('HYDE PARK', 1930),\n",
       " ('IRVING PARK', 7764),\n",
       " ('JEFFERSON PARK', 1755),\n",
       " ('KENWOOD', 4287),\n",
       " ('LAKE VIEW', 7055),\n",
       " ('LINCOLN PARK', 5615),\n",
       " ('LINCOLN SQUARE', 4132),\n",
       " ('LOGAN SQUARE', 7351),\n",
       " ('LOOP', 871),\n",
       " ('LOWER WEST SIDE', 7257),\n",
       " ('MCKINLEY PARK', 1552),\n",
       " ('MONTCLARE', 1317),\n",
       " ('MORGAN PARK', 3271),\n",
       " ('MOUNT GREENWOOD', 2091),\n",
       " ('NEAR NORTH SIDE', 3362),\n",
       " ('NEAR SOUTH SIDE', 1378),\n",
       " ('NEAR WEST SIDE', 7975),\n",
       " ('NEW CITY', 7922),\n",
       " ('NORTH CENTER', 7541),\n",
       " ('NORTH LAWNDALE', 5146),\n",
       " ('NORTH PARK', 4210),\n",
       " ('NORWOOD PARK', 6469),\n",
       " ('OAKLAND', 140),\n",
       " ('OHARE', 786),\n",
       " ('PORTAGE PARK', 6954),\n",
       " ('PULLMAN', 1620),\n",
       " ('RIVERDALE', 1547),\n",
       " ('ROGERS PARK', 4068),\n",
       " ('ROSELAND', 7020),\n",
       " ('SOUTH CHICAGO', 4043),\n",
       " ('SOUTH DEERING', 1859),\n",
       " ('SOUTH LAWNDALE', 14793),\n",
       " ('SOUTH SHORE', 4543),\n",
       " ('UPTOWN', 4388),\n",
       " ('WASHINGTON HEIGHTS', 4006),\n",
       " ('WASHINGTON PARK', 2648),\n",
       " ('WEST ELSDON', 3700),\n",
       " ('WEST ENGLEWOOD', 5946),\n",
       " ('WEST GARFIELD PARK', 2622),\n",
       " ('WEST LAWN', 4207),\n",
       " ('WEST PULLMAN', 3240),\n",
       " ('WEST RIDGE', 8197),\n",
       " ('WEST TOWN', 9429),\n",
       " ('WOODLAWN', 4206)]"
      ]
     },
     "execution_count": 159,
     "metadata": {},
     "output_type": "execute_result"
    }
   ],
   "source": [
    "%sql select COMMUNITY_AREA_NAME, sum(COLLEGE_ENROLLMENT) as total_college_enrollment\\\n",
    "from SCHOOLS\\\n",
    "group by COMMUNITY_AREA_NAME"
   ]
  },
  {
   "cell_type": "markdown",
   "metadata": {},
   "source": [
    "#### Problem 9: Get the 5 Community Areas with the least total College Enrollment  sorted in ascending order "
   ]
  },
  {
   "cell_type": "code",
   "execution_count": 162,
   "metadata": {},
   "outputs": [
    {
     "name": "stdout",
     "output_type": "stream",
     "text": [
      " * ibm_db_sa://zcl11296:***@dashdb-txn-sbox-yp-dal09-04.services.dal.bluemix.net:50000/BLUDB\n",
      "Done.\n"
     ]
    },
    {
     "data": {
      "text/html": [
       "<table>\n",
       "    <tr>\n",
       "        <th>community_area_name</th>\n",
       "        <th>total_college_enrollment</th>\n",
       "    </tr>\n",
       "    <tr>\n",
       "        <td>OAKLAND</td>\n",
       "        <td>140</td>\n",
       "    </tr>\n",
       "    <tr>\n",
       "        <td>FULLER PARK</td>\n",
       "        <td>531</td>\n",
       "    </tr>\n",
       "    <tr>\n",
       "        <td>BURNSIDE</td>\n",
       "        <td>549</td>\n",
       "    </tr>\n",
       "    <tr>\n",
       "        <td>OHARE</td>\n",
       "        <td>786</td>\n",
       "    </tr>\n",
       "    <tr>\n",
       "        <td>LOOP</td>\n",
       "        <td>871</td>\n",
       "    </tr>\n",
       "</table>"
      ],
      "text/plain": [
       "[('OAKLAND', 140),\n",
       " ('FULLER PARK', 531),\n",
       " ('BURNSIDE', 549),\n",
       " ('OHARE', 786),\n",
       " ('LOOP', 871)]"
      ]
     },
     "execution_count": 162,
     "metadata": {},
     "output_type": "execute_result"
    }
   ],
   "source": [
    "%sql select COMMUNITY_AREA_NAME, sum(COLLEGE_ENROLLMENT) as total_college_enrollment\\\n",
    "from SCHOOLS\\\n",
    "group by COMMUNITY_AREA_NAME\\\n",
    "order by total_college_enrollment asc\\\n",
    "limit 5"
   ]
  },
  {
   "cell_type": "code",
   "execution_count": 182,
   "metadata": {},
   "outputs": [
    {
     "name": "stdout",
     "output_type": "stream",
     "text": [
      " * ibm_db_sa://zcl11296:***@dashdb-txn-sbox-yp-dal09-04.services.dal.bluemix.net:50000/BLUDB\n",
      "Done.\n"
     ]
    },
    {
     "data": {
      "text/html": [
       "<table>\n",
       "    <tr>\n",
       "        <th>community_area_number</th>\n",
       "        <th>total_college_enrollment</th>\n",
       "    </tr>\n",
       "    <tr>\n",
       "        <td>30</td>\n",
       "        <td>14793</td>\n",
       "    </tr>\n",
       "    <tr>\n",
       "        <td>19</td>\n",
       "        <td>14386</td>\n",
       "    </tr>\n",
       "    <tr>\n",
       "        <td>25</td>\n",
       "        <td>10933</td>\n",
       "    </tr>\n",
       "    <tr>\n",
       "        <td>63</td>\n",
       "        <td>9915</td>\n",
       "    </tr>\n",
       "    <tr>\n",
       "        <td>58</td>\n",
       "        <td>9647</td>\n",
       "    </tr>\n",
       "</table>"
      ],
      "text/plain": [
       "[(30, 14793), (19, 14386), (25, 10933), (63, 9915), (58, 9647)]"
      ]
     },
     "execution_count": 182,
     "metadata": {},
     "output_type": "execute_result"
    }
   ],
   "source": [
    "%sql select COMMUNITY_AREA_NUMBER, sum(COLLEGE_ENROLLMENT) as total_college_enrollment\\\n",
    "from SCHOOLS\\\n",
    "group by COMMUNITY_AREA_NUMBER \\\n",
    "order by total_college_enrollment desc\\\n",
    "limit 5"
   ]
  },
  {
   "cell_type": "markdown",
   "metadata": {},
   "source": [
    "#### Problem 10: Get the hardship index for the community area which has College Enrollment of 4638"
   ]
  },
  {
   "cell_type": "code",
   "execution_count": 203,
   "metadata": {},
   "outputs": [
    {
     "name": "stdout",
     "output_type": "stream",
     "text": [
      " * ibm_db_sa://zcl11296:***@dashdb-txn-sbox-yp-dal09-04.services.dal.bluemix.net:50000/BLUDB\n",
      "Done.\n"
     ]
    },
    {
     "data": {
      "text/html": [
       "<table>\n",
       "    <tr>\n",
       "        <th>community_area_name</th>\n",
       "        <th>hardship_index</th>\n",
       "    </tr>\n",
       "    <tr>\n",
       "        <td>NORTH CENTER</td>\n",
       "        <td>6.0</td>\n",
       "    </tr>\n",
       "</table>"
      ],
      "text/plain": [
       "[('NORTH CENTER', 6.0)]"
      ]
     },
     "execution_count": 203,
     "metadata": {},
     "output_type": "execute_result"
    }
   ],
   "source": [
    "%%sql \n",
    "select CPS.community_area_name, hardship_index \n",
    "   from CHICAGO_SOC_DATA as CD, SCHOOLS as CPS \n",
    "   where CD.ca = CPS.community_area_number \n",
    "      and college_enrollment = 4368"
   ]
  },
  {
   "cell_type": "markdown",
   "metadata": {},
   "source": [
    "#### Problem 11: Get the hardship index for the community area which has the highest value for College Enrollment"
   ]
  },
  {
   "cell_type": "code",
   "execution_count": 194,
   "metadata": {},
   "outputs": [
    {
     "name": "stdout",
     "output_type": "stream",
     "text": [
      " * ibm_db_sa://zcl11296:***@dashdb-txn-sbox-yp-dal09-04.services.dal.bluemix.net:50000/BLUDB\n",
      "Done.\n"
     ]
    },
    {
     "data": {
      "text/html": [
       "<table>\n",
       "    <tr>\n",
       "        <th>ca</th>\n",
       "        <th>community_area_name</th>\n",
       "        <th>hardship_index</th>\n",
       "    </tr>\n",
       "    <tr>\n",
       "        <td>5.0</td>\n",
       "        <td>North Center</td>\n",
       "        <td>6.0</td>\n",
       "    </tr>\n",
       "</table>"
      ],
      "text/plain": [
       "[(5.0, 'North Center', 6.0)]"
      ]
     },
     "execution_count": 194,
     "metadata": {},
     "output_type": "execute_result"
    }
   ],
   "source": [
    "#solution from the lesson: \n",
    "%sql select ca, community_area_name, hardship_index from CHICAGO_SOC_DATA \\\n",
    "   where ca in \\\n",
    "   ( select community_area_number from schools order by college_enrollment desc limit 1 )"
   ]
  },
  {
   "cell_type": "code",
   "execution_count": 205,
   "metadata": {},
   "outputs": [
    {
     "name": "stdout",
     "output_type": "stream",
     "text": [
      " * ibm_db_sa://zcl11296:***@dashdb-txn-sbox-yp-dal09-04.services.dal.bluemix.net:50000/BLUDB\n",
      "Done.\n"
     ]
    },
    {
     "data": {
      "text/html": [
       "<table>\n",
       "    <tr>\n",
       "        <th>community_area_name</th>\n",
       "        <th>hardship_index</th>\n",
       "    </tr>\n",
       "    <tr>\n",
       "        <td>NORTH CENTER</td>\n",
       "        <td>6.0</td>\n",
       "    </tr>\n",
       "</table>"
      ],
      "text/plain": [
       "[('NORTH CENTER', 6.0)]"
      ]
     },
     "execution_count": 205,
     "metadata": {},
     "output_type": "execute_result"
    }
   ],
   "source": [
    "%%sql \n",
    "select CPS.community_area_name, hardship_index \n",
    "   from CHICAGO_SOC_DATA as CD, SCHOOLS as CPS \n",
    "   where CD.ca = CPS.community_area_number \n",
    "      and college_enrollment = (select max(COLLEGE_ENROLLMENT) from SCHOOLS)"
   ]
  },
  {
   "cell_type": "code",
   "execution_count": 206,
   "metadata": {},
   "outputs": [
    {
     "name": "stdout",
     "output_type": "stream",
     "text": [
      " * ibm_db_sa://zcl11296:***@dashdb-txn-sbox-yp-dal09-04.services.dal.bluemix.net:50000/BLUDB\n",
      "Done.\n"
     ]
    },
    {
     "data": {
      "text/html": [
       "<table>\n",
       "    <tr>\n",
       "        <th>community_area_number</th>\n",
       "        <th>total_college_enrollment</th>\n",
       "    </tr>\n",
       "    <tr>\n",
       "        <td>30</td>\n",
       "        <td>14793</td>\n",
       "    </tr>\n",
       "    <tr>\n",
       "        <td>19</td>\n",
       "        <td>14386</td>\n",
       "    </tr>\n",
       "    <tr>\n",
       "        <td>25</td>\n",
       "        <td>10933</td>\n",
       "    </tr>\n",
       "    <tr>\n",
       "        <td>63</td>\n",
       "        <td>9915</td>\n",
       "    </tr>\n",
       "    <tr>\n",
       "        <td>58</td>\n",
       "        <td>9647</td>\n",
       "    </tr>\n",
       "</table>"
      ],
      "text/plain": [
       "[(30, 14793), (19, 14386), (25, 10933), (63, 9915), (58, 9647)]"
      ]
     },
     "execution_count": 206,
     "metadata": {},
     "output_type": "execute_result"
    }
   ],
   "source": [
    "#I think both solutions are wrong, because we get one of the schools area, which had the most college enrollments\n",
    "# not the aggregated sum of all the areas. \n",
    "#The most enrollments had community area number 30: \n",
    "%sql select COMMUNITY_AREA_NUMBER, sum(COLLEGE_ENROLLMENT) as total_college_enrollment\\\n",
    "from SCHOOLS\\\n",
    "group by COMMUNITY_AREA_NUMBER \\\n",
    "order by total_college_enrollment desc\\\n",
    "limit 5\n",
    "\n",
    "#I can put this table in dataframe and get answer with pandas, but how to do it with sql? "
   ]
  },
  {
   "cell_type": "code",
   "execution_count": 232,
   "metadata": {},
   "outputs": [
    {
     "name": "stdout",
     "output_type": "stream",
     "text": [
      " * ibm_db_sa://zcl11296:***@dashdb-txn-sbox-yp-dal09-04.services.dal.bluemix.net:50000/BLUDB\n",
      "Done.\n"
     ]
    },
    {
     "data": {
      "text/plain": [
       "[]"
      ]
     },
     "execution_count": 232,
     "metadata": {},
     "output_type": "execute_result"
    }
   ],
   "source": [
    "#Let's create a new table with the sums of enrollments\n",
    "%sql create table enrollment as\\\n",
    "(select COMMUNITY_AREA_NUMBER, sum(COLLEGE_ENROLLMENT) as total_college_enrollment\\\n",
    "from SCHOOLS\\\n",
    "group by COMMUNITY_AREA_NUMBER ) WITH DATA\n"
   ]
  },
  {
   "cell_type": "code",
   "execution_count": 242,
   "metadata": {},
   "outputs": [
    {
     "name": "stdout",
     "output_type": "stream",
     "text": [
      " * ibm_db_sa://zcl11296:***@dashdb-txn-sbox-yp-dal09-04.services.dal.bluemix.net:50000/BLUDB\n",
      "Done.\n"
     ]
    },
    {
     "data": {
      "text/html": [
       "<table>\n",
       "    <tr>\n",
       "        <th>ca</th>\n",
       "        <th>community_area_name</th>\n",
       "        <th>hardship_index</th>\n",
       "    </tr>\n",
       "    <tr>\n",
       "        <td>30.0</td>\n",
       "        <td>South Lawndale</td>\n",
       "        <td>96.0</td>\n",
       "    </tr>\n",
       "</table>"
      ],
      "text/plain": [
       "[(30.0, 'South Lawndale', 96.0)]"
      ]
     },
     "execution_count": 242,
     "metadata": {},
     "output_type": "execute_result"
    }
   ],
   "source": [
    "%%sql select ca, community_area_name, hardship_index \n",
    "from CHICAGO_SOC_DATA \n",
    "where ca in\n",
    "(select COMMUNITY_AREA_NUMBER \n",
    "from enrollment \n",
    "order by total_college_enrollment desc \n",
    "limit 1)"
   ]
  },
  {
   "cell_type": "code",
   "execution_count": null,
   "metadata": {},
   "outputs": [],
   "source": []
  },
  {
   "cell_type": "code",
   "execution_count": null,
   "metadata": {},
   "outputs": [],
   "source": []
  },
  {
   "cell_type": "code",
   "execution_count": null,
   "metadata": {},
   "outputs": [],
   "source": []
  }
 ],
 "metadata": {
  "kernelspec": {
   "display_name": "Python 3",
   "language": "python",
   "name": "python3"
  },
  "language_info": {
   "codemirror_mode": {
    "name": "ipython",
    "version": 3
   },
   "file_extension": ".py",
   "mimetype": "text/x-python",
   "name": "python",
   "nbconvert_exporter": "python",
   "pygments_lexer": "ipython3",
   "version": "3.7.4"
  }
 },
 "nbformat": 4,
 "nbformat_minor": 2
}
